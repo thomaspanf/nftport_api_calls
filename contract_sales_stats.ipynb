{
 "cells": [
  {
   "cell_type": "code",
   "execution_count": 14,
   "id": "d627ec8f-8a8e-4b5b-9a32-06d2fce4346f",
   "metadata": {},
   "outputs": [],
   "source": [
    "import requests\n",
    "\n",
    "headers = {\n",
    "    'Authorization': 'c2c3e088-d722-42f0-9b98-684efad606cf',\n",
    "    'Content-Type': 'application/json',\n",
    "}\n",
    "\n",
    "params = {\n",
    "    'chain': 'ethereum',\n",
    "}\n",
    "\n",
    "## https://api.nftport.xyz/v0/transactions/stats/{contract_address} \n",
    "## 0xBC4CA0EdA7647A8aB7C2061c2E118A18a936f13D == BAYC CONTRACT \n",
    "\n",
    "response = requests.get('https://api.nftport.xyz/v0/transactions/stats/0xBC4CA0EdA7647A8aB7C2061c2E118A18a936f13D', params=params, headers=headers)\n",
    "\n",
    "\n",
    "with open('contract_sales_stats.json', 'wb') as outf:\n",
    "    outf.write(response.content)\n",
    "\n"
   ]
  },
  {
   "cell_type": "code",
   "execution_count": null,
   "id": "1ddfdc99-fb4f-4171-9d17-fe70638d0ec8",
   "metadata": {},
   "outputs": [],
   "source": []
  },
  {
   "cell_type": "code",
   "execution_count": null,
   "id": "256da513-7698-46cd-8424-659c88bfabc9",
   "metadata": {},
   "outputs": [],
   "source": []
  }
 ],
 "metadata": {
  "kernelspec": {
   "display_name": "Python 3 (ipykernel)",
   "language": "python",
   "name": "python3"
  },
  "language_info": {
   "codemirror_mode": {
    "name": "ipython",
    "version": 3
   },
   "file_extension": ".py",
   "mimetype": "text/x-python",
   "name": "python",
   "nbconvert_exporter": "python",
   "pygments_lexer": "ipython3",
   "version": "3.9.7"
  }
 },
 "nbformat": 4,
 "nbformat_minor": 5
}
