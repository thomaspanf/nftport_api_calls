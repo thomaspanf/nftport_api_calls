{
 "cells": [
  {
   "cell_type": "code",
   "execution_count": 1,
   "id": "def1fe3c-f416-4b73-9f23-7d9ed6ecbf4d",
   "metadata": {},
   "outputs": [],
   "source": [
    "import requests\n",
    "import json"
   ]
  },
  {
   "cell_type": "code",
   "execution_count": 14,
   "id": "b10b8be1-7296-4330-9a81-57a7fcdfe9bb",
   "metadata": {},
   "outputs": [],
   "source": [
    "## 0xBC4CA0EdA7647A8aB7C2061c2E118A18a936f13D == BAYC CONTRACT \n",
    "## grabs requested stats about contract address from nftport\n",
    "\n",
    "\n",
    "## stat_args = ['seven_day_average_price', 'thirty_day_average_price']\n",
    "## sample calL: get_contract_sales_stats(stat_args, '0xBC4CA0EdA7647A8aB7C2061c2E118A18a936f13D') returns [101.72852703623187, 100.01051434483679]\n",
    "## OPTIONS FOR stat_name PARAMETER => one_day_volume, one_day_change, one_day_sales, one_day_average_price, seven_day_volume, seven_day_change,\n",
    "## seven_day_sales, seven_day_average_price, thirty_day_volume, thirty_day_change, thirty_day_sales, thirty_day_average_price, total_volume,\n",
    "## total_sales, total_supply, total_minted, num_owners, average_price, market_cap, floor_price, floor_price_historic_one_day,\n",
    "## floor_price_historic_seven_day, floor_price_historic_thirty_day, updated_date\n",
    "\n",
    "def get_contract_sales_stats(stat_args, contract_address):\n",
    "\n",
    "    headers = {\n",
    "        'Authorization': 'c2c3e088-d722-42f0-9b98-684efad606cf',\n",
    "        'Content-Type': 'application/json',\n",
    "    }\n",
    "\n",
    "    params = {\n",
    "        'chain': 'ethereum',\n",
    "    }\n",
    "\n",
    "    get_addr = 'https://api.nftport.xyz/v0/transactions/stats/'\n",
    "    input_addr = f\"{get_addr}{contract_address}\"\n",
    "    \n",
    "    response = requests.get(input_addr, params=params, headers=headers)\n",
    "    json_file = response.json()\n",
    "    \n",
    "    res = []\n",
    "    \n",
    "    for x in range(len(stat_args)):\n",
    "        res.append(json_file['statistics'][stat_args[x]])\n",
    "\n",
    "    return res"
   ]
  },
  {
   "cell_type": "code",
   "execution_count": 15,
   "id": "8ff9b81e-4d62-4d70-89d0-953469afbf15",
   "metadata": {},
   "outputs": [],
   "source": [
    "## SAMPLE INPUTS \n",
    "\n",
    "seven_over_thirty_price = ['seven_day_average_price', 'thirty_day_average_price']\n",
    "seven_over_thirty_volume = ['seven_day_volume', 'thirty_day_volume'] \n",
    "\n",
    "def seven_over_thirty(args_lst, contract_address): \n",
    "    #index 0 is 7 day, index 1 is 30 day\n",
    "    lst = get_contract_sales_stats(args_lst, contract_address)\n",
    "    return (lst[0]/lst[1])"
   ]
  },
  {
   "cell_type": "code",
   "execution_count": 16,
   "id": "a520638e-12af-4d49-a87d-7f81e6bd81c5",
   "metadata": {},
   "outputs": [
    {
     "name": "stdout",
     "output_type": "stream",
     "text": [
      "seven day average price to thirty day average price ratio: \n"
     ]
    },
    {
     "data": {
      "text/plain": [
       "1.0171783207260725"
      ]
     },
     "execution_count": 16,
     "metadata": {},
     "output_type": "execute_result"
    }
   ],
   "source": [
    "print(\"seven day average price to thirty day average price ratio: \") \n",
    "seven_over_thirty(seven_over_thirty_price, '0xBC4CA0EdA7647A8aB7C2061c2E118A18a936f13D')"
   ]
  },
  {
   "cell_type": "code",
   "execution_count": 17,
   "id": "55a7a65b-92e8-4b18-a34b-11369593f2f5",
   "metadata": {},
   "outputs": [
    {
     "name": "stdout",
     "output_type": "stream",
     "text": [
      "seven day average volume to thirty day average volume ratio: \n"
     ]
    },
    {
     "data": {
      "text/plain": [
       "0.3665028936297598"
      ]
     },
     "execution_count": 17,
     "metadata": {},
     "output_type": "execute_result"
    }
   ],
   "source": [
    "print(\"seven day average volume to thirty day average volume ratio: \")\n",
    "seven_over_thirty(seven_over_thirty_volume, '0xBC4CA0EdA7647A8aB7C2061c2E118A18a936f13D')"
   ]
  },
  {
   "cell_type": "code",
   "execution_count": 18,
   "id": "81eabf54-3df4-4c6e-8393-9f5581c0a028",
   "metadata": {},
   "outputs": [],
   "source": [
    "def check_if_wash_traded(contract_address, token_id):\n",
    "    headers = {\n",
    "        'Authorization': 'c2c3e088-d722-42f0-9b98-684efad606cf',\n",
    "        'Content-Type': 'application/json',\n",
    "    }\n",
    "\n",
    "    params = {\n",
    "        'chain': 'ethereum',\n",
    "        'type': 'transfer',\n",
    "    }\n",
    "\n",
    "    ## sample call address\n",
    "    ## https://api.nftport.xy/v0/transactions/nfts/{contract_address}/{token_id}\n",
    "    ## 0xBC4CA0EdA7647A8aB7C2061c2E118A18a936f13D == BAYC CONTRACT \n",
    "    ## TOKEN_ID == 7537 https://opensea.io/assets/ethereum/0xbc4ca0eda7647a8ab7c2061c2e118a18a936f13d/7537\n",
    "    \n",
    "    get_addr = 'https://api.nftport.xyz/v0/transactions/nfts/'\n",
    "    input_addr = f\"{get_addr}{contract_address}/{token_id}\"\n",
    "    \n",
    "    response = requests.get(input_addr, params=params, headers=headers)\n",
    "    json = response.json()\n",
    "    \n",
    "    buyer_addrs = []\n",
    "    seller_addrs = [] \n",
    "    \n",
    "    for x in range(len(json[\"transactions\"])):\n",
    "        buyer_addrs.append(json[\"transactions\"][x][\"transfer_to\"])\n",
    "        seller_addrs.append(json[\"transactions\"][x][\"transfer_from\"])\n",
    "    \n",
    "    if(hasDuplicate(buyer_addrs,2)):\n",
    "        return True\n",
    "    if(hasDuplicate(seller_addrs,2)):\n",
    "        return True\n",
    "    else:\n",
    "        return False \n",
    "    \n",
    "\n",
    "def hasDuplicate(nums, k):\n",
    "     d = {}\n",
    "     for i, e in enumerate(nums):\n",
    "         if e in d:\n",
    "             if i - d.get(e) <= k:\n",
    "                return True\n",
    "         d[e] = i\n",
    "     return False\n"
   ]
  },
  {
   "cell_type": "code",
   "execution_count": 19,
   "id": "e90419de-1e5d-4b1c-b3f7-f344079ada1d",
   "metadata": {},
   "outputs": [
    {
     "data": {
      "text/plain": [
       "False"
      ]
     },
     "execution_count": 19,
     "metadata": {},
     "output_type": "execute_result"
    }
   ],
   "source": [
    "# contract_address = \"0xBC4CA0EdA7647A8aB7C2061c2E118A18a936f13D\" #bayc contract \n",
    "# token_id = 7537 \n",
    "contract_address = \"0xF87E31492Faf9A91B02Ee0dEAAd50d51d56D5d4d\" #land contract \n",
    "token_id = 37431060361303230980971206817494503260036\n",
    "check_if_wash_traded(contract_address, token_id)"
   ]
  },
  {
   "cell_type": "code",
   "execution_count": null,
   "id": "0707b14a-5f21-4126-9251-1cdd69a3b2e7",
   "metadata": {},
   "outputs": [],
   "source": []
  }
 ],
 "metadata": {
  "kernelspec": {
   "display_name": "Python 3 (ipykernel)",
   "language": "python",
   "name": "python3"
  },
  "language_info": {
   "codemirror_mode": {
    "name": "ipython",
    "version": 3
   },
   "file_extension": ".py",
   "mimetype": "text/x-python",
   "name": "python",
   "nbconvert_exporter": "python",
   "pygments_lexer": "ipython3",
   "version": "3.9.7"
  }
 },
 "nbformat": 4,
 "nbformat_minor": 5
}
