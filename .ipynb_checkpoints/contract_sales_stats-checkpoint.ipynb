{
 "cells": [
  {
   "cell_type": "code",
   "execution_count": 68,
   "id": "d627ec8f-8a8e-4b5b-9a32-06d2fce4346f",
   "metadata": {},
   "outputs": [
    {
     "name": "stdout",
     "output_type": "stream",
     "text": [
      "2031.812025\n"
     ]
    }
   ],
   "source": [
    "##IGNORE THIS BLOCK\n",
    "\n",
    "import requests\n",
    "import json\n",
    "\n",
    "headers = {\n",
    "    'Authorization': 'c2c3e088-d722-42f0-9b98-684efad606cf',\n",
    "    'Content-Type': 'application/json',\n",
    "}\n",
    "\n",
    "params = {\n",
    "    'chain': 'ethereum',\n",
    "}\n",
    "\n",
    "## https://api.nftport.xyz/v0/transactions/stats/{contract_address} \n",
    "## 0xBC4CA0EdA7647A8aB7C2061c2E118A18a936f13D == BAYC CONTRACT \n",
    "\n",
    "response = requests.get('https://api.nftport.xyz/v0/transactions/stats/0xBC4CA0EdA7647A8aB7C2061c2E118A18a936f13D', params=params, headers=headers)\n",
    "json_file = response.json()\n",
    "    \n",
    "print(json_file['statistics'][\"one_day_volume\"])\n",
    "\n",
    "\n",
    "with open('contract_sales_stats.json', 'wb') as outf:\n",
    "    outf.write(response.content)\n",
    "\n"
   ]
  },
  {
   "cell_type": "code",
   "execution_count": 69,
   "id": "1ddfdc99-fb4f-4171-9d17-fe70638d0ec8",
   "metadata": {},
   "outputs": [],
   "source": [
    "import requests\n",
    "import json\n",
    "\n",
    "## 0xBC4CA0EdA7647A8aB7C2061c2E118A18a936f13D == BAYC CONTRACT \n",
    "## grabs requested stats about contract address from nftport\n",
    "\n",
    "## sample callL: get_contract_sales_stats('one_day_volume', '0xBC4CA0EdA7647A8aB7C2061c2E118A18a936f13D') returns 2031.812025\n",
    "## options for stat_name parameter => one_day_volume, one_day_change, one_day_sales, one_day_average_price, seven_day_volume, seven_day_change,\n",
    "## seven_day_sales, seven_day_average_price, thirty_day_volume, thirty_day_change, thirty_day_sales, thirty_day_average_price, total_volume,\n",
    "## total_sales, total_supply, total_minted, num_owners, average_price, market_cap, floor_price, floor_price_historic_one_day,\n",
    "# floor_price_historic_seven_day, floor_price_historic_thirty_day, updated_date\n",
    "\n",
    "def get_contract_sales_stats(stat_name, contract_address):\n",
    "\n",
    "    headers = {\n",
    "        'Authorization': 'c2c3e088-d722-42f0-9b98-684efad606cf',\n",
    "        'Content-Type': 'application/json',\n",
    "    }\n",
    "\n",
    "    params = {\n",
    "        'chain': 'ethereum',\n",
    "    }\n",
    "\n",
    "    get_addr = 'https://api.nftport.xyz/v0/transactions/stats/'\n",
    "    input_addr = f\"{get_addr}{contract_address}\"\n",
    "    \n",
    "    response = requests.get(input_addr, params=params, headers=headers)\n",
    "    json_file = response.json()\n",
    "\n",
    "    return json_file['statistics'][stat_name]\n"
   ]
  },
  {
   "cell_type": "code",
   "execution_count": 70,
   "id": "16b0566d-73ee-4a28-a45a-3a4250b24ab4",
   "metadata": {},
   "outputs": [
    {
     "name": "stdout",
     "output_type": "stream",
     "text": [
      "101.72852703623187\n"
     ]
    }
   ],
   "source": [
    "print(get_contract_sales_stats('seven_day_average_price', '0xBC4CA0EdA7647A8aB7C2061c2E118A18a936f13D'))"
   ]
  },
  {
   "cell_type": "code",
   "execution_count": 92,
   "id": "7a405482-cb57-4e33-bffb-c545b168b9c5",
   "metadata": {},
   "outputs": [],
   "source": [
    "import requests\n",
    "import json\n",
    "\n",
    "## 0xBC4CA0EdA7647A8aB7C2061c2E118A18a936f13D == BAYC CONTRACT \n",
    "## grabs requested stats about contract address from nftport\n",
    "\n",
    "\n",
    "## stat_args = ['seven_day_average_price', 'thirty_day_average_price']\n",
    "## sample calL: get_contract_sales_stats(stat_args, '0xBC4CA0EdA7647A8aB7C2061c2E118A18a936f13D') returns [101.72852703623187, 100.01051434483679]\n",
    "## options for stat_name parameter => one_day_volume, one_day_change, one_day_sales, one_day_average_price, seven_day_volume, seven_day_change,\n",
    "## seven_day_sales, seven_day_average_price, thirty_day_volume, thirty_day_change, thirty_day_sales, thirty_day_average_price, total_volume,\n",
    "## total_sales, total_supply, total_minted, num_owners, average_price, market_cap, floor_price, floor_price_historic_one_day,\n",
    "## floor_price_historic_seven_day, floor_price_historic_thirty_day, updated_date\n",
    "\n",
    "def get_contract_sales_stats(stat_args, contract_address):\n",
    "\n",
    "    headers = {\n",
    "        'Authorization': 'c2c3e088-d722-42f0-9b98-684efad606cf',\n",
    "        'Content-Type': 'application/json',\n",
    "    }\n",
    "\n",
    "    params = {\n",
    "        'chain': 'ethereum',\n",
    "    }\n",
    "\n",
    "    get_addr = 'https://api.nftport.xyz/v0/transactions/stats/'\n",
    "    input_addr = f\"{get_addr}{contract_address}\"\n",
    "    \n",
    "    response = requests.get(input_addr, params=params, headers=headers)\n",
    "    json_file = response.json()\n",
    "    \n",
    "    res = []\n",
    "    \n",
    "    for x in range(len(stat_args)):\n",
    "        res.append(json_file['statistics'][stat_args[x]])\n",
    "\n",
    "    return res"
   ]
  },
  {
   "cell_type": "code",
   "execution_count": 93,
   "id": "6d3e9590-7be1-426e-9b83-3b90c23ac980",
   "metadata": {},
   "outputs": [
    {
     "name": "stdout",
     "output_type": "stream",
     "text": [
      "[101.72852703623187, 100.01051434483679]\n"
     ]
    }
   ],
   "source": [
    "stat_args = ['seven_day_average_price', 'thirty_day_average_price']\n",
    "print(get_contract_sales_stats(stat_args, '0xBC4CA0EdA7647A8aB7C2061c2E118A18a936f13D'))"
   ]
  },
  {
   "cell_type": "code",
   "execution_count": null,
   "id": "e632c09a-ed62-42fc-962e-31d5737b6147",
   "metadata": {},
   "outputs": [],
   "source": [
    "import requests\n",
    "import json\n",
    "\n",
    "## 0xBC4CA0EdA7647A8aB7C2061c2E118A18a936f13D == BAYC CONTRACT \n",
    "## grabs requested stats about contract address from nftport\n",
    "\n",
    "\n",
    "## stat_args = ['seven_day_average_price', 'thirty_day_average_price']\n",
    "## sample calL: get_contract_sales_stats(stat_args, '0xBC4CA0EdA7647A8aB7C2061c2E118A18a936f13D') returns [101.72852703623187, 100.01051434483679]\n",
    "## options for stat_name parameter => one_day_volume, one_day_change, one_day_sales, one_day_average_price, seven_day_volume, seven_day_change,\n",
    "## seven_day_sales, seven_day_average_price, thirty_day_volume, thirty_day_change, thirty_day_sales, thirty_day_average_price, total_volume,\n",
    "## total_sales, total_supply, total_minted, num_owners, average_price, market_cap, floor_price, floor_price_historic_one_day,\n",
    "## floor_price_historic_seven_day, floor_price_historic_thirty_day, updated_date\n",
    "\n",
    "def get_contract_sales_stats(stat_args, contract_address):\n",
    "\n",
    "    headers = {\n",
    "        'Authorization': 'c2c3e088-d722-42f0-9b98-684efad606cf',\n",
    "        'Content-Type': 'application/json',\n",
    "    }\n",
    "\n",
    "    params = {\n",
    "        'chain': 'ethereum',\n",
    "    }\n",
    "\n",
    "    get_addr = 'https://api.nftport.xyz/v0/transactions/stats/'\n",
    "    input_addr = f\"{get_addr}{contract_address}\"\n",
    "    \n",
    "    response = requests.get(input_addr, params=params, headers=headers)\n",
    "    json_file = response.json()\n",
    "    \n",
    "    res = []\n",
    "    \n",
    "    for x in range(len(stat_args)):\n",
    "        res.append(json_file['statistics'][stat_args[x]])\n",
    "\n",
    "    return res"
   ]
  }
 ],
 "metadata": {
  "kernelspec": {
   "display_name": "Python 3 (ipykernel)",
   "language": "python",
   "name": "python3"
  },
  "language_info": {
   "codemirror_mode": {
    "name": "ipython",
    "version": 3
   },
   "file_extension": ".py",
   "mimetype": "text/x-python",
   "name": "python",
   "nbconvert_exporter": "python",
   "pygments_lexer": "ipython3",
   "version": "3.9.7"
  }
 },
 "nbformat": 4,
 "nbformat_minor": 5
}
