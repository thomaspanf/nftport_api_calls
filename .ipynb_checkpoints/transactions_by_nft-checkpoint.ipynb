{
 "cells": [
  {
   "cell_type": "code",
   "execution_count": 10,
   "id": "38b4308d-526f-42e5-8d53-5398f825c153",
   "metadata": {},
   "outputs": [],
   "source": [
    "import requests\n",
    "\n",
    "headers = {\n",
    "    'Authorization': 'c2c3e088-d722-42f0-9b98-684efad606cf',\n",
    "    'Content-Type': 'application/json',\n",
    "}\n",
    "\n",
    "params = {\n",
    "    'chain': 'ethereum',\n",
    "    'type': 'sale',\n",
    "}\n",
    "\n",
    "## https://api.nftport.xy/v0/transactions/nfts/{contract_address}/{token_id}\n",
    "## 0xBC4CA0EdA7647A8aB7C2061c2E118A18a936f13D == BAYC CONTRACT \n",
    "## TOKEN_ID == 7537 https://opensea.io/assets/ethereum/0xbc4ca0eda7647a8ab7c2061c2e118a18a936f13d/7537\n",
    "\n",
    "response = requests.get('https://api.nftport.xyz/v0/transactions/nfts/0xBC4CA0EdA7647A8aB7C2061c2E118A18a936f13D/7537', params=params, headers=headers)\n",
    "\n",
    "with open('transactions_by_nft.json', 'wb') as outf:\n",
    "    outf.write(response.content)"
   ]
  },
  {
   "cell_type": "code",
   "execution_count": null,
   "id": "7eb8edbd-c272-4fb4-86b4-7f2269b24cd2",
   "metadata": {},
   "outputs": [],
   "source": []
  },
  {
   "cell_type": "code",
   "execution_count": null,
   "id": "6acf63fd-51b0-4a07-88cc-8eb59f0a242e",
   "metadata": {},
   "outputs": [],
   "source": []
  }
 ],
 "metadata": {
  "kernelspec": {
   "display_name": "Python 3 (ipykernel)",
   "language": "python",
   "name": "python3"
  },
  "language_info": {
   "codemirror_mode": {
    "name": "ipython",
    "version": 3
   },
   "file_extension": ".py",
   "mimetype": "text/x-python",
   "name": "python",
   "nbconvert_exporter": "python",
   "pygments_lexer": "ipython3",
   "version": "3.9.7"
  }
 },
 "nbformat": 4,
 "nbformat_minor": 5
}
