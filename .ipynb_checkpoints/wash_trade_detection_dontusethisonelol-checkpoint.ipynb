{
 "cells": [
  {
   "cell_type": "code",
   "execution_count": 226,
   "id": "7e032114-10c2-499d-8310-d55010134811",
   "metadata": {},
   "outputs": [],
   "source": [
    "import requests\n",
    "import csv\n",
    "import json\n",
    "\n",
    "def get_nft_token_transactions(chain_id, contract_address, token_id):\n",
    "    API_KEY = 'ckey_03e969207241447bb814df6b463'\n",
    "    base_url = 'https://api.covalenthq.com/v1'\n",
    "    endpoint = f'/{chain_id}/tokens/{contract_address}/nft_transactions/{token_id}/?key={API_KEY}'\n",
    "    url = base_url + endpoint\n",
    "    result = requests.get(url).json()\n",
    "    data = result[\"data\"]\n",
    "    return(data)\n",
    "\n",
    "\n",
    "def get_nft_token_ids_info(chain_id, contract_address, tokenid):\n",
    "    API_KEY = 'ckey_03e969207241447bb814df6b463'\n",
    "    base_url = 'https://api.covalenthq.com/v1'\n",
    "    endpoint = f'/{chain_id}/tokens/{contract_address}/nft_token_ids/?key={API_KEY}'\n",
    "    url = base_url + endpoint\n",
    "    result = requests.get(url).json()\n",
    "    data = result[\"data\"]\n",
    "    nft_tokens = nft_tokens = pd.DataFrame(data['items'])\n",
    "    return(nft_tokens)"
   ]
  },
  {
   "cell_type": "code",
   "execution_count": 227,
   "id": "853bcff8-15f0-45f5-ad3c-c8398c0507c8",
   "metadata": {},
   "outputs": [],
   "source": [
    "blockchain_chain_id = '1'\n",
    "address = '0xBC4CA0EdA7647A8aB7C2061c2E118A18a936f13D'\n",
    "token_id = 7537\n",
    "out = get_nft_token_transactions(blockchain_chain_id, address, token_id)"
   ]
  },
  {
   "cell_type": "code",
   "execution_count": 234,
   "id": "24bee4fa-496f-4dfe-8c5f-e2d7e43ec76e",
   "metadata": {},
   "outputs": [
    {
     "name": "stdout",
     "output_type": "stream",
     "text": [
      "12\n",
      "['0x000000000000000000000000f7459cbf58b0607ad39dacd079b6a4ab1ff59c0b', '0x000000000000000000000000db1c00a5cdc1849f999ff9e417a2556178cf73d7', '0x000000000000000000000000f82558b799d4ec5ed93c9699664cc194746c152e', '0x000000000000000000000000eaffb626014495a3331ed7539fd229893f57cb15', '0x000000000000000000000000d5d215cc4047d43a7d6fbd01b472f32f645e7b2d', '0x000000000000000000000000dd54e6edaffe9547e144c3eccdaf7facf1b0db84', '0x0000000000000000000000002388d0ab51fc18869d9d772692afe5270cf1a24f', '0x000000000000000000000000f41fa837908c0318a9a2b739c8fb990bfd4ac8a7', '0x0000000000000000000000007c15561590fc9eb063b3803b55165633eef207ec', '0x0000000000000000000000007a250d5630b4cf539739df2c5dacb4c659f2488d', '0x00000000000000000000000053fed1eb683745352886a363cc0b6e3415824ec8', '0x0000000000000000000000000000000000000000000000000000000000000000']\n",
      "['0x000000000000000000000000f7459cbf58b0607ad39dacd079b6a4ab1ff59c0b', '0x000000000000000000000000db1c00a5cdc1849f999ff9e417a2556178cf73d7', '0x000000000000000000000000f82558b799d4ec5ed93c9699664cc194746c152e', '0x000000000000000000000000eaffb626014495a3331ed7539fd229893f57cb15', '0x000000000000000000000000d5d215cc4047d43a7d6fbd01b472f32f645e7b2d', '0x000000000000000000000000dd54e6edaffe9547e144c3eccdaf7facf1b0db84', '0x0000000000000000000000002388d0ab51fc18869d9d772692afe5270cf1a24f', '0x000000000000000000000000f41fa837908c0318a9a2b739c8fb990bfd4ac8a7', '0x0000000000000000000000007c15561590fc9eb063b3803b55165633eef207ec', '0x0000000000000000000000007a250d5630b4cf539739df2c5dacb4c659f2488d', '0x00000000000000000000000053fed1eb683745352886a363cc0b6e3415824ec8', '0x0000000000000000000000000000000000000000000000000000000000000000']\n",
      "False\n"
     ]
    }
   ],
   "source": [
    "## detects if an nft has been traded from address A to address B back to address A\n",
    "## super duper basic functionality. All this does is check if an NFT has been in the \n",
    "## same accout more than once. Could be implemented in a much better manner \n",
    "\n",
    "out = get_nft_token_transactions(blockchain_chain_id, address, token_id)\n",
    "def check_if_wash_traded(out):\n",
    "    \n",
    "    from_addresses = []\n",
    "    to_addresses = [] \n",
    "    \n",
    "    print(len(out[\"items\"][0][\"nft_transactions\"]))\n",
    "    \n",
    "    for x in range(len(out[\"items\"][0][\"nft_transactions\"])):\n",
    "        # from_addresses.append(out[\"items\"][0][\"nft_transactions\"][x][\"from_address\"])\n",
    "        # to_addresses.append(out[\"items\"][0][\"nft_transactions\"][x][\"to_address\"])\n",
    "        \n",
    "        from_addresses.append(out[\"items\"][0][\"nft_transactions\"][x][\"log_events\"][0][\"raw_log_topics\"][1])\n",
    "        # to_addresses.append(out[\"items\"][0][\"nft_transactions\"][x][\"log_events\"][0][\"raw_log_topics\"][1])\n",
    "        \n",
    "    print(from_addresses)\n",
    "    print(to_addresses)\n",
    "    if(hasDuplicate(from_addresses,2)):\n",
    "        return True\n",
    "    if(hasDuplicate(to_addresses,2)):\n",
    "        return True\n",
    "    else:\n",
    "        print(\"False\")\n",
    "    \n",
    "    \n",
    "def hasDuplicate(nums, k):\n",
    "     d = {}\n",
    "     for i, e in enumerate(nums):\n",
    "         if e in d:\n",
    "             if i - d.get(e) <= k:\n",
    "                return True\n",
    "         d[e] = i\n",
    "     return False\n",
    "\n",
    "check_if_wash_traded(out)"
   ]
  },
  {
   "cell_type": "code",
   "execution_count": null,
   "id": "072194ee-55c1-4ed1-bcb5-e9327268099f",
   "metadata": {},
   "outputs": [],
   "source": [
    "import json\n",
    "with open('result.json', 'w') as fp:\n",
    "    json.dump(out, fp)"
   ]
  },
  {
   "cell_type": "code",
   "execution_count": 195,
   "id": "f67b8cb8-1d71-457d-8e88-f2eed2126b81",
   "metadata": {},
   "outputs": [
    {
     "name": "stdout",
     "output_type": "stream",
     "text": [
      "No duplicates were found\n"
     ]
    }
   ],
   "source": []
  },
  {
   "cell_type": "code",
   "execution_count": null,
   "id": "5a305c64-04c6-41ce-8666-afec1525f408",
   "metadata": {},
   "outputs": [],
   "source": []
  },
  {
   "cell_type": "code",
   "execution_count": null,
   "id": "bd9346a5-5ffe-459c-8673-188cbe690396",
   "metadata": {},
   "outputs": [],
   "source": []
  }
 ],
 "metadata": {
  "kernelspec": {
   "display_name": "Python 3 (ipykernel)",
   "language": "python",
   "name": "python3"
  },
  "language_info": {
   "codemirror_mode": {
    "name": "ipython",
    "version": 3
   },
   "file_extension": ".py",
   "mimetype": "text/x-python",
   "name": "python",
   "nbconvert_exporter": "python",
   "pygments_lexer": "ipython3",
   "version": "3.9.7"
  }
 },
 "nbformat": 4,
 "nbformat_minor": 5
}
