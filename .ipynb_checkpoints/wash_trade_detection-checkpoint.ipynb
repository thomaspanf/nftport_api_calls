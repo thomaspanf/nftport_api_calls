{
 "cells": [
  {
   "cell_type": "code",
   "execution_count": 52,
   "id": "89bfd16b-fad9-46cf-a12c-ddeabe673b61",
   "metadata": {},
   "outputs": [],
   "source": [
    "import requests\n",
    "import json\n",
    "\n",
    "def check_if_wash_traded(contract_address, token_id):\n",
    "    headers = {\n",
    "        'Authorization': 'c2c3e088-d722-42f0-9b98-684efad606cf',\n",
    "        'Content-Type': 'application/json',\n",
    "    }\n",
    "\n",
    "    params = {\n",
    "        'chain': 'ethereum',\n",
    "        'type': 'transfer',\n",
    "    }\n",
    "\n",
    "    ## sample call address\n",
    "    ## https://api.nftport.xy/v0/transactions/nfts/{contract_address}/{token_id}\n",
    "    ## 0xBC4CA0EdA7647A8aB7C2061c2E118A18a936f13D == BAYC CONTRACT \n",
    "    ## TOKEN_ID == 7537 https://opensea.io/assets/ethereum/0xbc4ca0eda7647a8ab7c2061c2e118a18a936f13d/7537\n",
    "    \n",
    "    get_addr = 'https://api.nftport.xyz/v0/transactions/nfts/'\n",
    "    input_addr = f\"{get_addr}{contract_address}/{token_id}\"\n",
    "    \n",
    "    response = requests.get(input_addr, params=params, headers=headers)\n",
    "    json = response.json()\n",
    "    \n",
    "    buyer_addrs = []\n",
    "    seller_addrs = [] \n",
    "    \n",
    "    for x in range(len(json[\"transactions\"])):\n",
    "        buyer_addrs.append(json[\"transactions\"][x][\"transfer_to\"])\n",
    "        seller_addrs.append(json[\"transactions\"][x][\"transfer_from\"])\n",
    "    \n",
    "    if(hasDuplicate(buyer_addrs,2)):\n",
    "        return True\n",
    "    if(hasDuplicate(seller_addrs,2)):\n",
    "        return True\n",
    "    else:\n",
    "        return False \n",
    "    \n",
    "\n",
    "def hasDuplicate(nums, k):\n",
    "     d = {}\n",
    "     for i, e in enumerate(nums):\n",
    "         if e in d:\n",
    "             if i - d.get(e) <= k:\n",
    "                return True\n",
    "         d[e] = i\n",
    "     return False\n"
   ]
  },
  {
   "cell_type": "code",
   "execution_count": 51,
   "id": "57980919-d3a1-4bea-969c-7ac55ca6f613",
   "metadata": {},
   "outputs": [
    {
     "name": "stdout",
     "output_type": "stream",
     "text": [
      "['0x15df151c7747be132ae7f3bffd0c32a648d36900', '0x80b6d00ccf4740a5eb59c471ed1a3594e55b8c6c', '0x959e104e1a4db6317fa58f8295f586e1a978c297']\n",
      "['0x80b6d00ccf4740a5eb59c471ed1a3594e55b8c6c', '0x959e104e1a4db6317fa58f8295f586e1a978c297', '0xf081eda01d8d3b10f6f93ff1459339b9ed174d3c']\n"
     ]
    },
    {
     "data": {
      "text/plain": [
       "False"
      ]
     },
     "execution_count": 51,
     "metadata": {},
     "output_type": "execute_result"
    }
   ],
   "source": [
    "# contract_address = \"0xBC4CA0EdA7647A8aB7C2061c2E118A18a936f13D\" #bayc contract \n",
    "# token_id = 7537 \n",
    "contract_address = \"0xF87E31492Faf9A91B02Ee0dEAAd50d51d56D5d4d\" #land contract \n",
    "token_id = 37431060361303230980971206817494503260036\n",
    "check_if_wash_traded(contract_address, token_id)"
   ]
  },
  {
   "cell_type": "code",
   "execution_count": null,
   "id": "2f77d48f-ddd5-49cc-b6cc-653e3a89d253",
   "metadata": {},
   "outputs": [],
   "source": []
  },
  {
   "cell_type": "code",
   "execution_count": null,
   "id": "e8a4bd0e-ff34-4e1d-8718-1131c07d7814",
   "metadata": {},
   "outputs": [],
   "source": []
  }
 ],
 "metadata": {
  "kernelspec": {
   "display_name": "Python 3 (ipykernel)",
   "language": "python",
   "name": "python3"
  },
  "language_info": {
   "codemirror_mode": {
    "name": "ipython",
    "version": 3
   },
   "file_extension": ".py",
   "mimetype": "text/x-python",
   "name": "python",
   "nbconvert_exporter": "python",
   "pygments_lexer": "ipython3",
   "version": "3.9.7"
  }
 },
 "nbformat": 4,
 "nbformat_minor": 5
}
