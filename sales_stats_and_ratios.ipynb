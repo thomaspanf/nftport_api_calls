{
 "cells": [
  {
   "cell_type": "code",
   "execution_count": 13,
   "id": "6f927848-1872-4d53-a193-d35864315447",
   "metadata": {},
   "outputs": [],
   "source": [
    "import requests\n",
    "import json\n",
    "\n",
    "## 0xBC4CA0EdA7647A8aB7C2061c2E118A18a936f13D == BAYC CONTRACT \n",
    "## grabs requested stats about contract address from nftport\n",
    "\n",
    "\n",
    "## stat_args = ['seven_day_average_price', 'thirty_day_average_price']\n",
    "## sample calL: get_contract_sales_stats(stat_args, '0xBC4CA0EdA7647A8aB7C2061c2E118A18a936f13D') returns [101.72852703623187, 100.01051434483679]\n",
    "## options for stat_name parameter => one_day_volume, one_day_change, one_day_sales, one_day_average_price, seven_day_volume, seven_day_change,\n",
    "## seven_day_sales, seven_day_average_price, thirty_day_volume, thirty_day_change, thirty_day_sales, thirty_day_average_price, total_volume,\n",
    "## total_sales, total_supply, total_minted, num_owners, average_price, market_cap, floor_price, floor_price_historic_one_day,\n",
    "## floor_price_historic_seven_day, floor_price_historic_thirty_day, updated_date\n",
    "\n",
    "def get_contract_sales_stats(stat_args, contract_address):\n",
    "\n",
    "    headers = {\n",
    "        'Authorization': 'c2c3e088-d722-42f0-9b98-684efad606cf',\n",
    "        'Content-Type': 'application/json',\n",
    "    }\n",
    "\n",
    "    params = {\n",
    "        'chain': 'ethereum',\n",
    "    }\n",
    "\n",
    "    get_addr = 'https://api.nftport.xyz/v0/transactions/stats/'\n",
    "    input_addr = f\"{get_addr}{contract_address}\"\n",
    "    \n",
    "    response = requests.get(input_addr, params=params, headers=headers)\n",
    "    json = response.json()\n",
    "    \n",
    "    res = []\n",
    "    \n",
    "    for x in range(len(stat_args)):\n",
    "        res.append(json['statistics'][stat_args[x]])\n",
    "        \n",
    "    return res"
   ]
  },
  {
   "cell_type": "code",
   "execution_count": 14,
   "id": "70c90b34-cb84-4d4b-9084-270656bebaad",
   "metadata": {},
   "outputs": [
    {
     "name": "stdout",
     "output_type": "stream",
     "text": [
      "[101.72852703623187, 100.01051434483679]\n"
     ]
    }
   ],
   "source": [
    "stat_args = ['seven_day_average_price', 'thirty_day_average_price']\n",
    "print(get_contract_sales_stats(stat_args, '0xBC4CA0EdA7647A8aB7C2061c2E118A18a936f13D'))"
   ]
  },
  {
   "cell_type": "code",
   "execution_count": 15,
   "id": "7e45d4e8-edac-4ef9-8e97-31a82bca1ede",
   "metadata": {},
   "outputs": [],
   "source": [
    "seven_over_thirty_price = ['seven_day_average_price', 'thirty_day_average_price']\n",
    "seven_over_thirty_volume = ['seven_day_volume', 'thirty_day_volume'] \n",
    "\n",
    "def seven_over_thirty(args_lst, contract_address): \n",
    "    #index 0 is 7 day, index 1 is 30 day\n",
    "    lst = get_contract_sales_stats(args_lst, contract_address)\n",
    "    return (lst[0]/lst[1])"
   ]
  },
  {
   "cell_type": "code",
   "execution_count": 16,
   "id": "a7b6e40d-4aae-449c-a13a-561c91117675",
   "metadata": {},
   "outputs": [
    {
     "name": "stdout",
     "output_type": "stream",
     "text": [
      "seven day average price over thirty day average price: \n"
     ]
    },
    {
     "data": {
      "text/plain": [
       "1.0171783207260725"
      ]
     },
     "execution_count": 16,
     "metadata": {},
     "output_type": "execute_result"
    }
   ],
   "source": [
    "print(\"seven day average price over thirty day average price: \") \n",
    "seven_over_thirty(seven_over_thirty_price, '0xBC4CA0EdA7647A8aB7C2061c2E118A18a936f13D')"
   ]
  },
  {
   "cell_type": "code",
   "execution_count": 17,
   "id": "5aa23991-96b4-4c06-9e44-f9dceaf6caf9",
   "metadata": {},
   "outputs": [
    {
     "name": "stdout",
     "output_type": "stream",
     "text": [
      "seven day average volume over thirty day average volume: \n"
     ]
    },
    {
     "data": {
      "text/plain": [
       "0.3665028936297598"
      ]
     },
     "execution_count": 17,
     "metadata": {},
     "output_type": "execute_result"
    }
   ],
   "source": [
    "print(\"seven day average volume over thirty day average volume: \")\n",
    "seven_over_thirty(seven_over_thirty_volume, '0xBC4CA0EdA7647A8aB7C2061c2E118A18a936f13D')"
   ]
  },
  {
   "cell_type": "code",
   "execution_count": null,
   "id": "dccc7586-5681-4931-88d3-f98b7cf5d603",
   "metadata": {},
   "outputs": [],
   "source": []
  },
  {
   "cell_type": "code",
   "execution_count": null,
   "id": "88b5b918-b92e-43e9-a6b5-2bb4c49f3ef8",
   "metadata": {},
   "outputs": [],
   "source": []
  }
 ],
 "metadata": {
  "kernelspec": {
   "display_name": "Python 3 (ipykernel)",
   "language": "python",
   "name": "python3"
  },
  "language_info": {
   "codemirror_mode": {
    "name": "ipython",
    "version": 3
   },
   "file_extension": ".py",
   "mimetype": "text/x-python",
   "name": "python",
   "nbconvert_exporter": "python",
   "pygments_lexer": "ipython3",
   "version": "3.9.7"
  }
 },
 "nbformat": 4,
 "nbformat_minor": 5
}
