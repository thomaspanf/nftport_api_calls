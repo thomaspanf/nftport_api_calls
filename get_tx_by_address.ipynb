{
 "cells": [
  {
   "cell_type": "code",
   "execution_count": 70,
   "id": "cfa99bce-4f6c-4381-bbf9-7d8ceb3562ab",
   "metadata": {},
   "outputs": [],
   "source": [
    "import requests\n",
    "import re\n",
    "import json\n",
    "from itertools import chain\n",
    "\n",
    "\n",
    "## queries covalent for all tx history for a given address and checks if they have had any \n",
    "## loan liquidations \n",
    "\n",
    "def flag_liquidated(address):\n",
    "    import requests\n",
    "\n",
    "    url = f\"https://api.covalenthq.com/v1/1/address/{address}/transactions_v2/?quote-currency=USD&format=JSON&block-signed-at-asc=false&no-logs=false&page-size=100&key=ckey_03e969207241447bb814df6b463\"\n",
    "    print(url)\n",
    "    response = requests.get(url)\n",
    "    \n",
    "    json = response.json() \n",
    "    \n",
    "    'LoanLiquidated' in json.values()\n",
    "    print('test')\n",
    "    \n",
    "    values = set(chain.from_iterable(i.values() for i in json.values()))\n",
    "\n",
    "    \n",
    "    # for x in range(len(json[\"data\"][\"items\"])):\n",
    "    #     print(json[\"data\"][\"items\"][x])\n",
    "        # for y in range(len(json[\"data\"][\"items\"][x][\"log_events\"])):\n",
    "        #       print(json[\"data\"items\n",
    "\n",
    "    \n",
    "    \n",
    "    \n",
    "    \n",
    "    \n",
    "    # with open('tx_by_address.json', 'wb') as outf:\n",
    "    #     outf.write(response.content)"
   ]
  },
  {
   "cell_type": "code",
   "execution_count": 71,
   "id": "f6e88edb-dfb8-4501-af9e-b353799bf49a",
   "metadata": {},
   "outputs": [
    {
     "name": "stdout",
     "output_type": "stream",
     "text": [
      "https://api.covalenthq.com/v1/1/address/0xB8d1C5D0B34C2335D56A954b91F8BD533a04C2fc/transactions_v2/?quote-currency=USD&format=JSON&block-signed-at-asc=false&no-logs=false&page-size=100&key=ckey_03e969207241447bb814df6b463\n",
      "test\n"
     ]
    },
    {
     "ename": "TypeError",
     "evalue": "unhashable type: 'list'",
     "output_type": "error",
     "traceback": [
      "\u001b[1;31m---------------------------------------------------------------------------\u001b[0m",
      "\u001b[1;31mTypeError\u001b[0m                                 Traceback (most recent call last)",
      "\u001b[1;32m~\\AppData\\Local\\Temp/ipykernel_832/3612761939.py\u001b[0m in \u001b[0;36m<module>\u001b[1;34m\u001b[0m\n\u001b[0;32m      1\u001b[0m \u001b[0maddress\u001b[0m \u001b[1;33m=\u001b[0m \u001b[1;34m'0xB8d1C5D0B34C2335D56A954b91F8BD533a04C2fc'\u001b[0m\u001b[1;33m\u001b[0m\u001b[1;33m\u001b[0m\u001b[0m\n\u001b[1;32m----> 2\u001b[1;33m \u001b[0mflag_liquidated\u001b[0m\u001b[1;33m(\u001b[0m\u001b[0maddress\u001b[0m\u001b[1;33m)\u001b[0m\u001b[1;33m\u001b[0m\u001b[1;33m\u001b[0m\u001b[0m\n\u001b[0m",
      "\u001b[1;32m~\\AppData\\Local\\Temp/ipykernel_832/2693115663.py\u001b[0m in \u001b[0;36mflag_liquidated\u001b[1;34m(address)\u001b[0m\n\u001b[0;32m     20\u001b[0m     \u001b[0mprint\u001b[0m\u001b[1;33m(\u001b[0m\u001b[1;34m'test'\u001b[0m\u001b[1;33m)\u001b[0m\u001b[1;33m\u001b[0m\u001b[1;33m\u001b[0m\u001b[0m\n\u001b[0;32m     21\u001b[0m \u001b[1;33m\u001b[0m\u001b[0m\n\u001b[1;32m---> 22\u001b[1;33m     \u001b[0mvalues\u001b[0m \u001b[1;33m=\u001b[0m \u001b[0mset\u001b[0m\u001b[1;33m(\u001b[0m\u001b[0mchain\u001b[0m\u001b[1;33m.\u001b[0m\u001b[0mfrom_iterable\u001b[0m\u001b[1;33m(\u001b[0m\u001b[0mi\u001b[0m\u001b[1;33m.\u001b[0m\u001b[0mvalues\u001b[0m\u001b[1;33m(\u001b[0m\u001b[1;33m)\u001b[0m \u001b[1;32mfor\u001b[0m \u001b[0mi\u001b[0m \u001b[1;32min\u001b[0m \u001b[0mjson\u001b[0m\u001b[1;33m.\u001b[0m\u001b[0mvalues\u001b[0m\u001b[1;33m(\u001b[0m\u001b[1;33m)\u001b[0m\u001b[1;33m)\u001b[0m\u001b[1;33m)\u001b[0m\u001b[1;33m\u001b[0m\u001b[1;33m\u001b[0m\u001b[0m\n\u001b[0m\u001b[0;32m     23\u001b[0m \u001b[1;33m\u001b[0m\u001b[0m\n\u001b[0;32m     24\u001b[0m \u001b[1;33m\u001b[0m\u001b[0m\n",
      "\u001b[1;31mTypeError\u001b[0m: unhashable type: 'list'"
     ]
    }
   ],
   "source": [
    "address = '0xB8d1C5D0B34C2335D56A954b91F8BD533a04C2fc'\n",
    "flag_liquidated(address)"
   ]
  },
  {
   "cell_type": "code",
   "execution_count": 40,
   "id": "bdf61acb-91c1-48aa-bf90-e8960fb96de3",
   "metadata": {},
   "outputs": [],
   "source": [
    "#https://api.covalenthq.com/v1/1/address/0xa79E63e78Eec28741e711f89A672A4C40876Ebf3/transactions_v2/?key=ckey_03e969207241447bb814df6b463\n",
    "#https://api.covalenthq.com/v1/1/tokens/0xBC4CA0EdA7647A8aB7C2061c2E118A18a936f13D/nft_transactions/7537/?key=ckey_03e969207241447bb814df6b463"
   ]
  },
  {
   "cell_type": "code",
   "execution_count": null,
   "id": "cc6f73e6-14f5-4c69-9326-b575fe499c04",
   "metadata": {},
   "outputs": [],
   "source": []
  }
 ],
 "metadata": {
  "kernelspec": {
   "display_name": "Python 3 (ipykernel)",
   "language": "python",
   "name": "python3"
  },
  "language_info": {
   "codemirror_mode": {
    "name": "ipython",
    "version": 3
   },
   "file_extension": ".py",
   "mimetype": "text/x-python",
   "name": "python",
   "nbconvert_exporter": "python",
   "pygments_lexer": "ipython3",
   "version": "3.9.7"
  }
 },
 "nbformat": 4,
 "nbformat_minor": 5
}
