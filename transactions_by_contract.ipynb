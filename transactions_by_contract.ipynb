{
 "cells": [
  {
   "cell_type": "code",
   "execution_count": 10,
   "id": "b6260c3b-358a-4bb8-ab95-5982e50b484d",
   "metadata": {},
   "outputs": [],
   "source": [
    "\n",
    "#okay this one does not seem useful at all \n",
    "\n",
    "import requests\n",
    "\n",
    "headers = {\n",
    "    'Authorization': 'c2c3e088-d722-42f0-9b98-684efad606cf',\n",
    "    'Content-Type': 'application/json',\n",
    "}\n",
    "\n",
    "params = {\n",
    "    'chain': 'ethereum',\n",
    "    'type': 'sale', #Allowed values: ['transfer', 'mint', 'burn', 'sale', 'all'].\"\n",
    "}\n",
    "\n",
    "response = requests.get('https://api.nftport.xyz/v0/transactions/nfts/0xBC4CA0EdA7647A8aB7C2061c2E118A18a936f13D', params=params, headers=headers)\n",
    "\n",
    "## https://api.nftport.xyz/v0/transactions/nfts/{contract_address}\n",
    "\n",
    "## 0xBC4CA0EdA7647A8aB7C2061c2E118A18a936f13D == BAYC CONTRACT \n",
    "\n",
    "with open('transactions_by_contract.json', 'wb') as outf:\n",
    "    outf.write(response.content)"
   ]
  },
  {
   "cell_type": "code",
   "execution_count": null,
   "id": "4b88e1e0-2ed0-47a1-a237-8db164123696",
   "metadata": {},
   "outputs": [],
   "source": []
  },
  {
   "cell_type": "code",
   "execution_count": null,
   "id": "f0e0ba4a-9787-4d46-a1e0-4da6f2073bb3",
   "metadata": {},
   "outputs": [],
   "source": []
  }
 ],
 "metadata": {
  "kernelspec": {
   "display_name": "Python 3 (ipykernel)",
   "language": "python",
   "name": "python3"
  },
  "language_info": {
   "codemirror_mode": {
    "name": "ipython",
    "version": 3
   },
   "file_extension": ".py",
   "mimetype": "text/x-python",
   "name": "python",
   "nbconvert_exporter": "python",
   "pygments_lexer": "ipython3",
   "version": "3.9.7"
  }
 },
 "nbformat": 4,
 "nbformat_minor": 5
}
